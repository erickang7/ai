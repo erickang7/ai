{
 "cells": [
  {
   "cell_type": "markdown",
   "metadata": {},
   "source": [
    "Ops Analytics"
   ]
  },
  {
   "cell_type": "markdown",
   "metadata": {},
   "source": [
    "Load telemetry data and clean up irrelevant attributes"
   ]
  },
  {
   "cell_type": "code",
   "execution_count": 230,
   "metadata": {},
   "outputs": [],
   "source": [
    "import os\n",
    "import tarfile\n",
    "import urllib\n",
    "import urllib.request\n",
    "import pandas as pd\n",
    "import matplotlib.pyplot as plt\n",
    "import numpy as np\n",
    "from pandas.plotting import scatter_matrix"
   ]
  },
  {
   "cell_type": "code",
   "execution_count": 283,
   "metadata": {},
   "outputs": [],
   "source": [
    "file_path = os.path.join(\"datasets\", \"sqlops_telemetry\",\"\")\n",
    "\n",
    "def load_data(data_path = file_path, csv_file=\"dbo.carbonPerf.csv\"):\n",
    "    csv_path = os.path.join(data_path, csv_file)\n",
    "    return pd.read_csv(csv_path)\n",
    "\n",
    "ops_df = load_data(file_path)\n",
    "valid_attributes = [\"Platform\", \"AppVersion\", \"TotalMemory\", \"CPUCount\", \"Ellapsed\"]\n",
    "ops_df = ops_df[valid_attributes]\n",
    "ops_df.dropna(subset=[\"Ellapsed\"], inplace=True)\n",
    "positive_value_indices = np.where(ops_df[\"Ellapsed\"]>0)\n",
    "ops_df = ops_df.iloc[positive_value_indices]\n",
    "ops_df[\"Ellapsed\"] = np.ceil(ops_df[\"Ellapsed\"]/1000)\n",
    "ops_df[\"Ellapsed\"].where(ops_df[\"Ellapsed\"] < 20, 20.0, inplace=True)\n",
    "ops_df[\"TotalMemory\"] = np.ceil(ops_df[\"TotalMemory\"] / (1024**3))\n",
    "ops_df[\"TotalMemory\"].where(ops_df[\"TotalMemory\"] < 256, 256, inplace=True)\n",
    "ops_df[\"CPUCount\"].where(ops_df[\"CPUCount\"] < 20, 20.0, inplace=True )\n",
    "ops_df[\"CPUCount\"] = np.ceil(ops_df[\"CPUCount\"])\n",
    "stack = ops_df[[\"Platform\", \"AppVersion\"]].stack()\n",
    "ops_df[[\"Platform\", \"AppVersion\"]] = pd.Series(stack.factorize()[0], index=stack.index).unstack()\n",
    "\n",
    "linux_indices = np.where(ops_df[\"Platform\"]==7)\n",
    "linux_df = ops_df.iloc[linux_indices]\n",
    "\n",
    "windows_indices= np.where(ops_df[\"Platform\"]==12)\n",
    "windows_df = ops_df.iloc[windows_indices]\n",
    "\n",
    "mac_indices = np.where(ops_df[\"Platform\"]==0)\n",
    "mac_df = ops_df.iloc[mac_indices]"
   ]
  },
  {
   "cell_type": "code",
   "execution_count": 284,
   "metadata": {},
   "outputs": [
    {
     "data": {
      "text/html": [
       "<div>\n",
       "<style scoped>\n",
       "    .dataframe tbody tr th:only-of-type {\n",
       "        vertical-align: middle;\n",
       "    }\n",
       "\n",
       "    .dataframe tbody tr th {\n",
       "        vertical-align: top;\n",
       "    }\n",
       "\n",
       "    .dataframe thead th {\n",
       "        text-align: right;\n",
       "    }\n",
       "</style>\n",
       "<table border=\"1\" class=\"dataframe\">\n",
       "  <thead>\n",
       "    <tr style=\"text-align: right;\">\n",
       "      <th></th>\n",
       "      <th>Platform</th>\n",
       "      <th>AppVersion</th>\n",
       "      <th>TotalMemory</th>\n",
       "      <th>CPUCount</th>\n",
       "      <th>Ellapsed</th>\n",
       "    </tr>\n",
       "  </thead>\n",
       "  <tbody>\n",
       "    <tr>\n",
       "      <th>count</th>\n",
       "      <td>63768.0</td>\n",
       "      <td>63768.000000</td>\n",
       "      <td>63768.000000</td>\n",
       "      <td>63768.000000</td>\n",
       "      <td>63768.000000</td>\n",
       "    </tr>\n",
       "    <tr>\n",
       "      <th>mean</th>\n",
       "      <td>7.0</td>\n",
       "      <td>3.161272</td>\n",
       "      <td>13.626333</td>\n",
       "      <td>6.119433</td>\n",
       "      <td>5.641921</td>\n",
       "    </tr>\n",
       "    <tr>\n",
       "      <th>std</th>\n",
       "      <td>0.0</td>\n",
       "      <td>1.929796</td>\n",
       "      <td>5.622469</td>\n",
       "      <td>2.111224</td>\n",
       "      <td>4.178602</td>\n",
       "    </tr>\n",
       "    <tr>\n",
       "      <th>min</th>\n",
       "      <td>7.0</td>\n",
       "      <td>1.000000</td>\n",
       "      <td>2.000000</td>\n",
       "      <td>2.000000</td>\n",
       "      <td>1.000000</td>\n",
       "    </tr>\n",
       "    <tr>\n",
       "      <th>25%</th>\n",
       "      <td>7.0</td>\n",
       "      <td>2.000000</td>\n",
       "      <td>8.000000</td>\n",
       "      <td>4.000000</td>\n",
       "      <td>3.000000</td>\n",
       "    </tr>\n",
       "    <tr>\n",
       "      <th>50%</th>\n",
       "      <td>7.0</td>\n",
       "      <td>2.000000</td>\n",
       "      <td>16.000000</td>\n",
       "      <td>8.000000</td>\n",
       "      <td>4.000000</td>\n",
       "    </tr>\n",
       "    <tr>\n",
       "      <th>75%</th>\n",
       "      <td>7.0</td>\n",
       "      <td>5.000000</td>\n",
       "      <td>16.000000</td>\n",
       "      <td>8.000000</td>\n",
       "      <td>6.000000</td>\n",
       "    </tr>\n",
       "    <tr>\n",
       "      <th>max</th>\n",
       "      <td>7.0</td>\n",
       "      <td>26.000000</td>\n",
       "      <td>128.000000</td>\n",
       "      <td>20.000000</td>\n",
       "      <td>20.000000</td>\n",
       "    </tr>\n",
       "  </tbody>\n",
       "</table>\n",
       "</div>"
      ],
      "text/plain": [
       "       Platform    AppVersion   TotalMemory      CPUCount      Ellapsed\n",
       "count   63768.0  63768.000000  63768.000000  63768.000000  63768.000000\n",
       "mean        7.0      3.161272     13.626333      6.119433      5.641921\n",
       "std         0.0      1.929796      5.622469      2.111224      4.178602\n",
       "min         7.0      1.000000      2.000000      2.000000      1.000000\n",
       "25%         7.0      2.000000      8.000000      4.000000      3.000000\n",
       "50%         7.0      2.000000     16.000000      8.000000      4.000000\n",
       "75%         7.0      5.000000     16.000000      8.000000      6.000000\n",
       "max         7.0     26.000000    128.000000     20.000000     20.000000"
      ]
     },
     "execution_count": 284,
     "metadata": {},
     "output_type": "execute_result"
    }
   ],
   "source": [
    "linux_df.describe()"
   ]
  },
  {
   "cell_type": "code",
   "execution_count": 285,
   "metadata": {},
   "outputs": [
    {
     "data": {
      "text/html": [
       "<div>\n",
       "<style scoped>\n",
       "    .dataframe tbody tr th:only-of-type {\n",
       "        vertical-align: middle;\n",
       "    }\n",
       "\n",
       "    .dataframe tbody tr th {\n",
       "        vertical-align: top;\n",
       "    }\n",
       "\n",
       "    .dataframe thead th {\n",
       "        text-align: right;\n",
       "    }\n",
       "</style>\n",
       "<table border=\"1\" class=\"dataframe\">\n",
       "  <thead>\n",
       "    <tr style=\"text-align: right;\">\n",
       "      <th></th>\n",
       "      <th>Platform</th>\n",
       "      <th>AppVersion</th>\n",
       "      <th>TotalMemory</th>\n",
       "      <th>CPUCount</th>\n",
       "      <th>Ellapsed</th>\n",
       "    </tr>\n",
       "  </thead>\n",
       "  <tbody>\n",
       "    <tr>\n",
       "      <th>count</th>\n",
       "      <td>108442.0</td>\n",
       "      <td>108442.000000</td>\n",
       "      <td>108442.000000</td>\n",
       "      <td>108442.000000</td>\n",
       "      <td>108442.000000</td>\n",
       "    </tr>\n",
       "    <tr>\n",
       "      <th>mean</th>\n",
       "      <td>12.0</td>\n",
       "      <td>3.274755</td>\n",
       "      <td>14.961583</td>\n",
       "      <td>5.619087</td>\n",
       "      <td>10.194500</td>\n",
       "    </tr>\n",
       "    <tr>\n",
       "      <th>std</th>\n",
       "      <td>0.0</td>\n",
       "      <td>2.076143</td>\n",
       "      <td>12.441709</td>\n",
       "      <td>2.503274</td>\n",
       "      <td>6.145134</td>\n",
       "    </tr>\n",
       "    <tr>\n",
       "      <th>min</th>\n",
       "      <td>12.0</td>\n",
       "      <td>1.000000</td>\n",
       "      <td>1.000000</td>\n",
       "      <td>1.000000</td>\n",
       "      <td>1.000000</td>\n",
       "    </tr>\n",
       "    <tr>\n",
       "      <th>25%</th>\n",
       "      <td>12.0</td>\n",
       "      <td>2.000000</td>\n",
       "      <td>8.000000</td>\n",
       "      <td>4.000000</td>\n",
       "      <td>5.000000</td>\n",
       "    </tr>\n",
       "    <tr>\n",
       "      <th>50%</th>\n",
       "      <td>12.0</td>\n",
       "      <td>2.000000</td>\n",
       "      <td>16.000000</td>\n",
       "      <td>4.000000</td>\n",
       "      <td>9.000000</td>\n",
       "    </tr>\n",
       "    <tr>\n",
       "      <th>75%</th>\n",
       "      <td>12.0</td>\n",
       "      <td>6.000000</td>\n",
       "      <td>16.000000</td>\n",
       "      <td>8.000000</td>\n",
       "      <td>15.000000</td>\n",
       "    </tr>\n",
       "    <tr>\n",
       "      <th>max</th>\n",
       "      <td>12.0</td>\n",
       "      <td>28.000000</td>\n",
       "      <td>256.000000</td>\n",
       "      <td>20.000000</td>\n",
       "      <td>20.000000</td>\n",
       "    </tr>\n",
       "  </tbody>\n",
       "</table>\n",
       "</div>"
      ],
      "text/plain": [
       "       Platform     AppVersion    TotalMemory       CPUCount       Ellapsed\n",
       "count  108442.0  108442.000000  108442.000000  108442.000000  108442.000000\n",
       "mean       12.0       3.274755      14.961583       5.619087      10.194500\n",
       "std         0.0       2.076143      12.441709       2.503274       6.145134\n",
       "min        12.0       1.000000       1.000000       1.000000       1.000000\n",
       "25%        12.0       2.000000       8.000000       4.000000       5.000000\n",
       "50%        12.0       2.000000      16.000000       4.000000       9.000000\n",
       "75%        12.0       6.000000      16.000000       8.000000      15.000000\n",
       "max        12.0      28.000000     256.000000      20.000000      20.000000"
      ]
     },
     "execution_count": 285,
     "metadata": {},
     "output_type": "execute_result"
    }
   ],
   "source": [
    "windows_df.describe()"
   ]
  },
  {
   "cell_type": "code",
   "execution_count": 286,
   "metadata": {},
   "outputs": [
    {
     "data": {
      "text/html": [
       "<div>\n",
       "<style scoped>\n",
       "    .dataframe tbody tr th:only-of-type {\n",
       "        vertical-align: middle;\n",
       "    }\n",
       "\n",
       "    .dataframe tbody tr th {\n",
       "        vertical-align: top;\n",
       "    }\n",
       "\n",
       "    .dataframe thead th {\n",
       "        text-align: right;\n",
       "    }\n",
       "</style>\n",
       "<table border=\"1\" class=\"dataframe\">\n",
       "  <thead>\n",
       "    <tr style=\"text-align: right;\">\n",
       "      <th></th>\n",
       "      <th>Platform</th>\n",
       "      <th>AppVersion</th>\n",
       "      <th>TotalMemory</th>\n",
       "      <th>CPUCount</th>\n",
       "      <th>Ellapsed</th>\n",
       "    </tr>\n",
       "  </thead>\n",
       "  <tbody>\n",
       "    <tr>\n",
       "      <th>count</th>\n",
       "      <td>11976.0</td>\n",
       "      <td>11976.000000</td>\n",
       "      <td>11976.000000</td>\n",
       "      <td>11976.000000</td>\n",
       "      <td>11976.000000</td>\n",
       "    </tr>\n",
       "    <tr>\n",
       "      <th>mean</th>\n",
       "      <td>0.0</td>\n",
       "      <td>2.959419</td>\n",
       "      <td>11.885855</td>\n",
       "      <td>4.821393</td>\n",
       "      <td>7.032899</td>\n",
       "    </tr>\n",
       "    <tr>\n",
       "      <th>std</th>\n",
       "      <td>0.0</td>\n",
       "      <td>1.928541</td>\n",
       "      <td>8.325933</td>\n",
       "      <td>2.292785</td>\n",
       "      <td>5.877106</td>\n",
       "    </tr>\n",
       "    <tr>\n",
       "      <th>min</th>\n",
       "      <td>0.0</td>\n",
       "      <td>1.000000</td>\n",
       "      <td>1.000000</td>\n",
       "      <td>1.000000</td>\n",
       "      <td>1.000000</td>\n",
       "    </tr>\n",
       "    <tr>\n",
       "      <th>25%</th>\n",
       "      <td>0.0</td>\n",
       "      <td>2.000000</td>\n",
       "      <td>8.000000</td>\n",
       "      <td>4.000000</td>\n",
       "      <td>3.000000</td>\n",
       "    </tr>\n",
       "    <tr>\n",
       "      <th>50%</th>\n",
       "      <td>0.0</td>\n",
       "      <td>2.000000</td>\n",
       "      <td>8.000000</td>\n",
       "      <td>4.000000</td>\n",
       "      <td>4.000000</td>\n",
       "    </tr>\n",
       "    <tr>\n",
       "      <th>75%</th>\n",
       "      <td>0.0</td>\n",
       "      <td>4.000000</td>\n",
       "      <td>16.000000</td>\n",
       "      <td>4.000000</td>\n",
       "      <td>10.000000</td>\n",
       "    </tr>\n",
       "    <tr>\n",
       "      <th>max</th>\n",
       "      <td>0.0</td>\n",
       "      <td>21.000000</td>\n",
       "      <td>126.000000</td>\n",
       "      <td>20.000000</td>\n",
       "      <td>20.000000</td>\n",
       "    </tr>\n",
       "  </tbody>\n",
       "</table>\n",
       "</div>"
      ],
      "text/plain": [
       "       Platform    AppVersion   TotalMemory      CPUCount      Ellapsed\n",
       "count   11976.0  11976.000000  11976.000000  11976.000000  11976.000000\n",
       "mean        0.0      2.959419     11.885855      4.821393      7.032899\n",
       "std         0.0      1.928541      8.325933      2.292785      5.877106\n",
       "min         0.0      1.000000      1.000000      1.000000      1.000000\n",
       "25%         0.0      2.000000      8.000000      4.000000      3.000000\n",
       "50%         0.0      2.000000      8.000000      4.000000      4.000000\n",
       "75%         0.0      4.000000     16.000000      4.000000     10.000000\n",
       "max         0.0     21.000000    126.000000     20.000000     20.000000"
      ]
     },
     "execution_count": 286,
     "metadata": {},
     "output_type": "execute_result"
    }
   ],
   "source": [
    "mac_df.describe()"
   ]
  },
  {
   "cell_type": "code",
   "execution_count": 287,
   "metadata": {},
   "outputs": [
    {
     "data": {
      "text/html": [
       "<div>\n",
       "<style scoped>\n",
       "    .dataframe tbody tr th:only-of-type {\n",
       "        vertical-align: middle;\n",
       "    }\n",
       "\n",
       "    .dataframe tbody tr th {\n",
       "        vertical-align: top;\n",
       "    }\n",
       "\n",
       "    .dataframe thead th {\n",
       "        text-align: right;\n",
       "    }\n",
       "</style>\n",
       "<table border=\"1\" class=\"dataframe\">\n",
       "  <thead>\n",
       "    <tr style=\"text-align: right;\">\n",
       "      <th></th>\n",
       "      <th>Platform</th>\n",
       "      <th>AppVersion</th>\n",
       "      <th>TotalMemory</th>\n",
       "      <th>CPUCount</th>\n",
       "      <th>Ellapsed</th>\n",
       "    </tr>\n",
       "  </thead>\n",
       "  <tbody>\n",
       "    <tr>\n",
       "      <th>0</th>\n",
       "      <td>0</td>\n",
       "      <td>1</td>\n",
       "      <td>4.0</td>\n",
       "      <td>2.0</td>\n",
       "      <td>20.0</td>\n",
       "    </tr>\n",
       "    <tr>\n",
       "      <th>1</th>\n",
       "      <td>0</td>\n",
       "      <td>1</td>\n",
       "      <td>8.0</td>\n",
       "      <td>2.0</td>\n",
       "      <td>7.0</td>\n",
       "    </tr>\n",
       "    <tr>\n",
       "      <th>2</th>\n",
       "      <td>0</td>\n",
       "      <td>1</td>\n",
       "      <td>16.0</td>\n",
       "      <td>8.0</td>\n",
       "      <td>2.0</td>\n",
       "    </tr>\n",
       "    <tr>\n",
       "      <th>3</th>\n",
       "      <td>0</td>\n",
       "      <td>1</td>\n",
       "      <td>4.0</td>\n",
       "      <td>4.0</td>\n",
       "      <td>12.0</td>\n",
       "    </tr>\n",
       "    <tr>\n",
       "      <th>4</th>\n",
       "      <td>0</td>\n",
       "      <td>1</td>\n",
       "      <td>4.0</td>\n",
       "      <td>2.0</td>\n",
       "      <td>8.0</td>\n",
       "    </tr>\n",
       "  </tbody>\n",
       "</table>\n",
       "</div>"
      ],
      "text/plain": [
       "   Platform  AppVersion  TotalMemory  CPUCount  Ellapsed\n",
       "0         0           1          4.0       2.0      20.0\n",
       "1         0           1          8.0       2.0       7.0\n",
       "2         0           1         16.0       8.0       2.0\n",
       "3         0           1          4.0       4.0      12.0\n",
       "4         0           1          4.0       2.0       8.0"
      ]
     },
     "execution_count": 287,
     "metadata": {},
     "output_type": "execute_result"
    }
   ],
   "source": [
    "ops_df.head()"
   ]
  },
  {
   "cell_type": "code",
   "execution_count": 288,
   "metadata": {},
   "outputs": [
    {
     "data": {
      "text/plain": [
       "count    184186.000000\n",
       "mean          8.412757\n",
       "std           5.930850\n",
       "min           1.000000\n",
       "25%           4.000000\n",
       "50%           6.000000\n",
       "75%          12.000000\n",
       "max          20.000000\n",
       "Name: Ellapsed, dtype: object"
      ]
     },
     "execution_count": 288,
     "metadata": {},
     "output_type": "execute_result"
    }
   ],
   "source": [
    "ops_df[\"Ellapsed\"].describe().apply(lambda x: format(x, 'f'))"
   ]
  },
  {
   "cell_type": "code",
   "execution_count": 290,
   "metadata": {},
   "outputs": [
    {
     "data": {
      "text/plain": [
       "<matplotlib.axes._subplots.AxesSubplot at 0x7f757911f390>"
      ]
     },
     "execution_count": 290,
     "metadata": {},
     "output_type": "execute_result"
    },
    {
     "data": {
      "image/png": "[encoded data removed]",
      "text/plain": [
       "<matplotlib.figure.Figure at 0x7f75791252e8>"
      ]
     },
     "metadata": {},
     "output_type": "display_data"
    }
   ],
   "source": [
    "linux_df[\"Ellapsed\"].hist(bins=100)"
   ]
  },
  {
   "cell_type": "code",
   "execution_count": 296,
   "metadata": {},
   "outputs": [
    {
     "data": {
      "text/plain": [
       "<matplotlib.axes._subplots.AxesSubplot at 0x7f7578850978>"
      ]
     },
     "execution_count": 296,
     "metadata": {},
     "output_type": "execute_result"
    },
    {
     "data": {
      "image/png": "[encoded data removed]",
      "text/plain": [
       "<matplotlib.figure.Figure at 0x7f757922b470>"
      ]
     },
     "metadata": {},
     "output_type": "display_data"
    }
   ],
   "source": [
    "mac_df[\"Ellapsed\"].hist(bins=100)"
   ]
  },
  {
   "cell_type": "code",
   "execution_count": 297,
   "metadata": {},
   "outputs": [
    {
     "data": {
      "text/plain": [
       "<matplotlib.axes._subplots.AxesSubplot at 0x7f757873bd30>"
      ]
     },
     "execution_count": 297,
     "metadata": {},
     "output_type": "execute_result"
    },
    {
     "data": {
      "image/png": "[encoded data removed]",
      "text/plain": [
       "<matplotlib.figure.Figure at 0x7f75787129b0>"
      ]
     },
     "metadata": {},
     "output_type": "display_data"
    }
   ],
   "source": [
    "windows_df[\"Ellapsed\"].hist(bins=100)"
   ]
  },
  {
   "cell_type": "code",
   "execution_count": 299,
   "metadata": {
    "scrolled": true
   },
   "outputs": [
    {
     "data": {
      "text/plain": [
       "Ellapsed       1.000000\n",
       "AppVersion    -0.005086\n",
       "TotalMemory   -0.197484\n",
       "CPUCount      -0.251730\n",
       "Platform            NaN\n",
       "Name: Ellapsed, dtype: float64"
      ]
     },
     "execution_count": 299,
     "metadata": {},
     "output_type": "execute_result"
    }
   ],
   "source": [
    "corr_matrix=linux_df.corr()\n",
    "corr_matrix[\"Ellapsed\"].sort_values(ascending=False)"
   ]
  },
  {
   "cell_type": "code",
   "execution_count": 300,
   "metadata": {},
   "outputs": [
    {
     "data": {
      "text/plain": [
       "Ellapsed       1.000000\n",
       "AppVersion    -0.057800\n",
       "CPUCount      -0.215835\n",
       "TotalMemory   -0.303499\n",
       "Platform            NaN\n",
       "Name: Ellapsed, dtype: float64"
      ]
     },
     "execution_count": 300,
     "metadata": {},
     "output_type": "execute_result"
    }
   ],
   "source": [
    "corr_matrix=mac_df.corr()\n",
    "corr_matrix[\"Ellapsed\"].sort_values(ascending=False)"
   ]
  },
  {
   "cell_type": "code",
   "execution_count": 301,
   "metadata": {},
   "outputs": [
    {
     "data": {
      "text/plain": [
       "Ellapsed       1.000000\n",
       "AppVersion    -0.075707\n",
       "TotalMemory   -0.187016\n",
       "CPUCount      -0.216181\n",
       "Platform            NaN\n",
       "Name: Ellapsed, dtype: float64"
      ]
     },
     "execution_count": 301,
     "metadata": {},
     "output_type": "execute_result"
    }
   ],
   "source": [
    "corr_matrix=windows_df.corr()\n",
    "corr_matrix[\"Ellapsed\"].sort_values(ascending=False)"
   ]
  },
  {
   "cell_type": "code",
   "execution_count": null,
   "metadata": {},
   "outputs": [],
   "source": []
  },
  {
   "cell_type": "code",
   "execution_count": 292,
   "metadata": {},
   "outputs": [
    {
     "data": {
      "text/plain": [
       "<matplotlib.axes._subplots.AxesSubplot at 0x7f75792ca2b0>"
      ]
     },
     "execution_count": 292,
     "metadata": {},
     "output_type": "execute_result"
    },
    {
     "data": {
      "image/png": "[encoded data removed]",
      "text/plain": [
       "<matplotlib.figure.Figure at 0x7f7578acd198>"
      ]
     },
     "metadata": {},
     "output_type": "display_data"
    }
   ],
   "source": [
    "linux_df[\"CPUCount\"].hist(bins=50)"
   ]
  },
  {
   "cell_type": "code",
   "execution_count": null,
   "metadata": {},
   "outputs": [],
   "source": []
  },
  {
   "cell_type": "code",
   "execution_count": null,
   "metadata": {},
   "outputs": [],
   "source": []
  },
  {
   "cell_type": "code",
   "execution_count": null,
   "metadata": {},
   "outputs": [],
   "source": []
  },
  {
   "cell_type": "code",
   "execution_count": 294,
   "metadata": {
    "scrolled": false
   },
   "outputs": [
    {
     "data": {
      "image/png": "[encoded data removed]",
      "text/plain": [
       "<matplotlib.figure.Figure at 0x7f7578981dd8>"
      ]
     },
     "metadata": {},
     "output_type": "display_data"
    }
   ],
   "source": [
    "attributes = [\"Ellapsed\", \"AppVersion\", \"TotalMemory\", \"CPUCount\"]\n",
    "scatter_matrix(linux_df[attributes], figsize=(20,15))\n",
    "plt.show()"
   ]
  },
  {
   "cell_type": "code",
   "execution_count": null,
   "metadata": {},
   "outputs": [],
   "source": []
  }
 ],
 "metadata": {
  "kernelspec": {
   "display_name": "Python 3",
   "language": "python",
   "name": "python3"
  },
  "language_info": {
   "codemirror_mode": {
    "name": "ipython",
    "version": 3
   },
   "file_extension": ".py",
   "mimetype": "text/x-python",
   "name": "python",
   "nbconvert_exporter": "python",
   "pygments_lexer": "ipython3",
   "version": "3.5.2"
  }
 },
 "nbformat": 4,
 "nbformat_minor": 2
}
